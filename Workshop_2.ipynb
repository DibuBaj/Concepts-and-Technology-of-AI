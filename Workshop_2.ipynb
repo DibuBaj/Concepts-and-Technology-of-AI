{
  "nbformat": 4,
  "nbformat_minor": 0,
  "metadata": {
    "colab": {
      "provenance": []
    },
    "kernelspec": {
      "name": "python3",
      "display_name": "Python 3"
    },
    "language_info": {
      "name": "python"
    }
  },
  "cells": [
    {
      "cell_type": "markdown",
      "source": [
        "###Name:Dibyanshu Ratna Bajracharya\n",
        "###Class:L5GC2\n",
        "###Student Id: 2408571"
      ],
      "metadata": {
        "id": "L9q1XRqatqBo"
      }
    },
    {
      "cell_type": "markdown",
      "source": [
        "# 3 To - Do - Task\n",
        "Please Complete all the problem listed below.\n",
        "\n",
        "##3.1 Warming Up Exercises - Basic Inspection and Exploration:\n",
        "**Problem 1 - Data Read, Write and Inspect:\n",
        "Complete all following Task:**\n",
        "\n",
        "• Dataset for the Task: \"bank.csv\"\n",
        "1. Load the provided dataset and import in pandas DataFrame.\n",
        "2. Check info of the DataFrame and identify following:\n",
        "(a) columns with dtypes=object\n",
        "(b) unique values of those columns.\n",
        "(c) check for the total number of null values in each column.\n",
        "3. Drop all the columns with dtypes object and store in new DataFrame, also write the DataFrame in\n",
        "”.csv” with name ”banknumericdata.csv”\n",
        "4. Read ”banknumericdata.csv” and Find the summary statistics."
      ],
      "metadata": {
        "id": "tNv3MEBnuCHy"
      }
    },
    {
      "cell_type": "code",
      "execution_count": 5,
      "metadata": {
        "colab": {
          "base_uri": "https://localhost:8080/"
        },
        "id": "jSY2wKlGpMF8",
        "outputId": "8c9f267a-70e0-48d1-e190-62a7331d7ac9"
      },
      "outputs": [
        {
          "output_type": "stream",
          "name": "stdout",
          "text": [
            "Index(['job', 'marital', 'education', 'default', 'housing', 'loan', 'contact',\n",
            "       'month', 'poutcome', 'y'],\n",
            "      dtype='object')\n",
            "\n",
            "\n",
            "Unique values in 'job': ['management' 'technician' 'entrepreneur' 'blue-collar' 'unknown'\n",
            " 'retired' 'admin.' 'services' 'self-employed' 'unemployed' 'housemaid'\n",
            " 'student']\n",
            "Unique values in 'marital': ['married' 'single' 'divorced']\n",
            "Unique values in 'education': ['tertiary' 'secondary' 'unknown' 'primary']\n",
            "Unique values in 'default': ['no' 'yes']\n",
            "Unique values in 'housing': ['yes' 'no']\n",
            "Unique values in 'loan': ['no' 'yes']\n",
            "Unique values in 'contact': ['unknown' 'cellular' 'telephone']\n",
            "Unique values in 'month': ['may' 'jun' 'jul' 'aug' 'oct' 'nov' 'dec' 'jan' 'feb' 'mar' 'apr' 'sep']\n",
            "Unique values in 'poutcome': ['unknown' 'failure' 'other' 'success']\n",
            "Unique values in 'y': ['no' 'yes']\n",
            "Total null value in each column:\n",
            " age          0\n",
            "job          0\n",
            "marital      0\n",
            "education    0\n",
            "default      0\n",
            "balance      0\n",
            "housing      0\n",
            "loan         0\n",
            "contact      0\n",
            "day          0\n",
            "month        0\n",
            "duration     0\n",
            "campaign     0\n",
            "pdays        0\n",
            "previous     0\n",
            "poutcome     0\n",
            "y            0\n",
            "dtype: int64\n",
            "   age  balance  day  duration  campaign  pdays  previous\n",
            "0   58     2143    5       261         1     -1         0\n",
            "1   44       29    5       151         1     -1         0\n",
            "2   33        2    5        76         1     -1         0\n",
            "3   47     1506    5        92         1     -1         0\n",
            "4   33        1    5       198         1     -1         0 \n",
            "\n",
            "                age        balance           day      duration      campaign  \\\n",
            "count  45211.000000   45211.000000  45211.000000  45211.000000  45211.000000   \n",
            "mean      40.936210    1362.272058     15.806419    258.163080      2.763841   \n",
            "std       10.618762    3044.765829      8.322476    257.527812      3.098021   \n",
            "min       18.000000   -8019.000000      1.000000      0.000000      1.000000   \n",
            "25%       33.000000      72.000000      8.000000    103.000000      1.000000   \n",
            "50%       39.000000     448.000000     16.000000    180.000000      2.000000   \n",
            "75%       48.000000    1428.000000     21.000000    319.000000      3.000000   \n",
            "max       95.000000  102127.000000     31.000000   4918.000000     63.000000   \n",
            "\n",
            "              pdays      previous  \n",
            "count  45211.000000  45211.000000  \n",
            "mean      40.197828      0.580323  \n",
            "std      100.128746      2.303441  \n",
            "min       -1.000000      0.000000  \n",
            "25%       -1.000000      0.000000  \n",
            "50%       -1.000000      0.000000  \n",
            "75%       -1.000000      0.000000  \n",
            "max      871.000000    275.000000  \n"
          ]
        }
      ],
      "source": [
        "import pandas as pd\n",
        "dataset = pd.read_csv(\"/content/drive/MyDrive/AI/Week2_Dataset/bank .csv\")\n",
        "\n",
        "#Q1\n",
        "df = pd.DataFrame(dataset)\n",
        "\n",
        "#Q2\n",
        "#a\n",
        "object_columns = df.select_dtypes(include=['object']).columns\n",
        "print(object_columns)\n",
        "print(\"\\n\")\n",
        "\n",
        "#b\n",
        "for col in object_columns:\n",
        "    unique_vals = df[col].unique()\n",
        "    print(f\"Unique values in '{col}':\", unique_vals)\n",
        "\n",
        "\n",
        "#c\n",
        "print(\"Total null value in each column:\\n\",df.isnull().sum())\n",
        "\n",
        "#Q3\n",
        "df_numeric = df.select_dtypes(exclude='object')\n",
        "df_numeric.to_csv(\"banknumericdata.csv\", index=False)\n",
        "\n",
        "#Q4\n",
        "df_numeric_sum = pd.read_csv(\"banknumericdata.csv\")\n",
        "print(df_numeric_sum.head(),\"\\n\")\n",
        "print(df_numeric_sum.describe())"
      ]
    },
    {
      "cell_type": "markdown",
      "source": [
        "**Problem 2 - Data Imputations:**\n",
        "\n",
        "Complete all the following Task:\n",
        "\n",
        "• Dataset for the Task: \"medical_student.csv\"\n",
        "1. Load the provided dataset and import in pandas DataFrame.\n",
        "2. Check info of the DataFrame and identify column with missing (null) values.\n",
        "3. For the column with missing values fill the values using various techniques we discussed above. Try\n",
        "to explain why did you select the particular methods for particular column.\n",
        "4. Check for any duplicate values present in Dataset and do necessary to manage the duplicate items.\n",
        "{Hint: dataset.duplicated.sum()}"
      ],
      "metadata": {
        "id": "CoDaE4E9oe20"
      }
    },
    {
      "cell_type": "code",
      "source": [
        "import pandas as pd\n",
        "#Q1\n",
        "df_medical = pd.read_csv(\"/content/drive/MyDrive/AI/Week2_Dataset/medical_students_dataset.csv\")\n",
        "df_medical.head()\n",
        "\n",
        "#Q2\n",
        "print(df_medical.info())\n",
        "print(\"\\nNumber of missing values in each column:\")\n",
        "print(df_medical.isnull().sum())\n",
        "\n",
        "#Q3\n",
        "for col in df_medical.columns:\n",
        "  if df_medical[col].isnull().sum() > 0:\n",
        "    if df_medical[col].dtype == 'object':\n",
        "      #Filled categorical column with mode\n",
        "      df_medical[col] = df_medical[col].fillna(df_medical[col].mode()[0])\n",
        "    else:\n",
        "      #Filled numeric columns with mean\n",
        "      df_medical[col] = df_medical[col].fillna(df_medical[col].mean())\n",
        "print(\"\\nMissing values after filling:\")\n",
        "print(df_medical.isnull().sum())\n",
        "\n",
        "\n",
        "#Q4\n",
        "print(\"\\nNumber of duplicate rows:\", df_medical.duplicated().sum())\n",
        "df_medical = df_medical.drop_duplicates()\n",
        "print(\"\\nNumber of duplicate rows after removing:\", df_medical.duplicated().sum())\n",
        "print(\"\\nNumber of rows after removing duplicates:\", len(df_medical))\n"
      ],
      "metadata": {
        "colab": {
          "base_uri": "https://localhost:8080/"
        },
        "id": "BCve09HQovlQ",
        "outputId": "2dbf7feb-effc-4cf8-ecd1-16a5e84491ba"
      },
      "execution_count": 15,
      "outputs": [
        {
          "output_type": "stream",
          "name": "stdout",
          "text": [
            "<class 'pandas.core.frame.DataFrame'>\n",
            "RangeIndex: 200000 entries, 0 to 199999\n",
            "Data columns (total 13 columns):\n",
            " #   Column          Non-Null Count   Dtype  \n",
            "---  ------          --------------   -----  \n",
            " 0   Student ID      180000 non-null  float64\n",
            " 1   Age             180000 non-null  float64\n",
            " 2   Gender          180000 non-null  object \n",
            " 3   Height          180000 non-null  float64\n",
            " 4   Weight          180000 non-null  float64\n",
            " 5   Blood Type      180000 non-null  object \n",
            " 6   BMI             180000 non-null  float64\n",
            " 7   Temperature     180000 non-null  float64\n",
            " 8   Heart Rate      180000 non-null  float64\n",
            " 9   Blood Pressure  180000 non-null  float64\n",
            " 10  Cholesterol     180000 non-null  float64\n",
            " 11  Diabetes        180000 non-null  object \n",
            " 12  Smoking         180000 non-null  object \n",
            "dtypes: float64(9), object(4)\n",
            "memory usage: 19.8+ MB\n",
            "None\n",
            "\n",
            "Number of missing values in each column:\n",
            "Student ID        20000\n",
            "Age               20000\n",
            "Gender            20000\n",
            "Height            20000\n",
            "Weight            20000\n",
            "Blood Type        20000\n",
            "BMI               20000\n",
            "Temperature       20000\n",
            "Heart Rate        20000\n",
            "Blood Pressure    20000\n",
            "Cholesterol       20000\n",
            "Diabetes          20000\n",
            "Smoking           20000\n",
            "dtype: int64\n",
            "\n",
            "Missing values after filling:\n",
            "Student ID        0\n",
            "Age               0\n",
            "Gender            0\n",
            "Height            0\n",
            "Weight            0\n",
            "Blood Type        0\n",
            "BMI               0\n",
            "Temperature       0\n",
            "Heart Rate        0\n",
            "Blood Pressure    0\n",
            "Cholesterol       0\n",
            "Diabetes          0\n",
            "Smoking           0\n",
            "dtype: int64\n",
            "\n",
            "Number of duplicate rows: 12572\n",
            "\n",
            "Number of duplicate rows after removing: 0\n",
            "\n",
            "Number of rows after removing duplicates: 187428\n"
          ]
        }
      ]
    },
    {
      "cell_type": "markdown",
      "source": [
        "###3.2 Exercises - Data Cleaning and Transformations with ”Titanic Dataset”:###\n",
        "Dataset Used: \"titanic.csv\"\n",
        "\n",
        "**Problem - 1:**\n",
        "Create a DataFrame that is subsetted for the columns ’Name’, ’Pclass’, ’Sex’, ’Age’, ’Fare’, and ’Survived’.\n",
        "Retain only those rows where ’Pclass’ is equal to 1, representing first-class passengers. What is the mean,\n",
        "median, maximum value, and minimum value of the ’Fare’ column?"
      ],
      "metadata": {
        "id": "U34U6_2jq_9N"
      }
    },
    {
      "cell_type": "code",
      "source": [
        "import pandas as pd\n",
        "df_titanic = pd.read_csv(\"/content/drive/MyDrive/AI/Week2_Dataset/Titanic-Dataset.csv\")\n",
        "\n",
        "df_subset = df_titanic[['Name', 'Pclass', 'Sex', 'Age', 'Fare', 'Survived']]\n",
        "df_firstClass = df_subset[df_subset['Pclass']==1]\n",
        "\n",
        "mean_fare = df_firstClass['Fare'].mean()\n",
        "median_fare = df_firstClass['Fare'].median()\n",
        "max_fare = df_firstClass['Fare'].max()\n",
        "min_fare = df_firstClass['Fare'].min()\n",
        "\n",
        "print(\"Fare Stats of First Class Passangers:\")\n",
        "print(\"Mean Fare:\",mean_fare)\n",
        "print(\"Median Fare:\",median_fare)\n",
        "print(\"Max Fare:\",max_fare)\n",
        "print(\"Min Fare:\",min_fare)\n"
      ],
      "metadata": {
        "colab": {
          "base_uri": "https://localhost:8080/"
        },
        "id": "Top8TDIbrIsz",
        "outputId": "00da9d67-bc09-4ae0-9ed7-03da9c82ab28"
      },
      "execution_count": 18,
      "outputs": [
        {
          "output_type": "stream",
          "name": "stdout",
          "text": [
            "Fare Stats of First Class Passangers:\n",
            "Mean Fare: 84.1546875\n",
            "Median Fare: 60.287499999999994\n",
            "Max Fare: 512.3292\n",
            "Min Fare: 0.0\n"
          ]
        }
      ]
    },
    {
      "cell_type": "markdown",
      "source": [
        "**Problem - 2:**\n",
        "How many null values are contained in the ’Age’ column in your subsetted DataFrame? Once you’ve found this out, drop them from your DataFrame."
      ],
      "metadata": {
        "id": "YioHQh4PudHe"
      }
    },
    {
      "cell_type": "code",
      "source": [
        "age_null = df_firstClass['Age'].isnull().sum()\n",
        "print(f\"Null value in Age Column:{age_null}\")\n",
        "\n",
        "drop_null = df_firstClass.dropna(subset=['Age'])\n",
        "print(f\"Number of rows after dropping null values: {len(drop_null)}\")"
      ],
      "metadata": {
        "colab": {
          "base_uri": "https://localhost:8080/"
        },
        "id": "YIVIPZRtunOL",
        "outputId": "9c36ba94-7232-4f68-9b64-db3470fc0365"
      },
      "execution_count": 21,
      "outputs": [
        {
          "output_type": "stream",
          "name": "stdout",
          "text": [
            "Null value in Age Column:30\n",
            "Number of rows after dropping null values: 186\n"
          ]
        }
      ]
    },
    {
      "cell_type": "markdown",
      "source": [
        "**Problem - 3:**\n",
        "\n",
        "The ’Embarked’ column in the Titanic dataset contains categorical data representing the ports of embarka- tion:\n",
        "\n",
        "• ’C’ for Cherbourg\n",
        "\n",
        "• ’Q’ for Queenstown\n",
        "\n",
        "• ’S’ for Southampton\n",
        "\n",
        "Task:\n",
        "\n",
        "Use one-hot encoding to convert the ’Embarked’ column into separate binary columns (’Embarked C’, ’Embarked Q’, ’Embarked S’).\n",
        "Add these new columns to the original DataFrame.\n",
        "Drop the original ’Embarked’ column.\n",
        "Print the first few rows of the modified DataFrame to verify the changes."
      ],
      "metadata": {
        "id": "FLqF19IGvYUq"
      }
    },
    {
      "cell_type": "code",
      "source": [
        "embarked_encoded = pd.get_dummies(df_titanic['Embarked'], prefix='Embarked')\n",
        "\n",
        "df_titanic = pd.concat([df_titanic, embarked_encoded], axis=1)\n",
        "df_titanic = df_titanic.drop(columns=['Embarked'])\n",
        "\n",
        "print(df_titanic.head())"
      ],
      "metadata": {
        "colab": {
          "base_uri": "https://localhost:8080/"
        },
        "id": "CqP4eNThvbbZ",
        "outputId": "7796bce6-c7b7-4225-b688-8ef1222c3e19"
      },
      "execution_count": 22,
      "outputs": [
        {
          "output_type": "stream",
          "name": "stdout",
          "text": [
            "   PassengerId  Survived  Pclass  \\\n",
            "0            1         0       3   \n",
            "1            2         1       1   \n",
            "2            3         1       3   \n",
            "3            4         1       1   \n",
            "4            5         0       3   \n",
            "\n",
            "                                                Name     Sex   Age  SibSp  \\\n",
            "0                            Braund, Mr. Owen Harris    male  22.0      1   \n",
            "1  Cumings, Mrs. John Bradley (Florence Briggs Th...  female  38.0      1   \n",
            "2                             Heikkinen, Miss. Laina  female  26.0      0   \n",
            "3       Futrelle, Mrs. Jacques Heath (Lily May Peel)  female  35.0      1   \n",
            "4                           Allen, Mr. William Henry    male  35.0      0   \n",
            "\n",
            "   Parch            Ticket     Fare Cabin  Embarked_C  Embarked_Q  Embarked_S  \n",
            "0      0         A/5 21171   7.2500   NaN       False       False        True  \n",
            "1      0          PC 17599  71.2833   C85        True       False       False  \n",
            "2      0  STON/O2. 3101282   7.9250   NaN       False       False        True  \n",
            "3      0            113803  53.1000  C123       False       False        True  \n",
            "4      0            373450   8.0500   NaN       False       False        True  \n"
          ]
        }
      ]
    },
    {
      "cell_type": "markdown",
      "source": [
        "**Problem - 4:**\n",
        "\n",
        "Compare the mean survival rates (’Survived’) for the different groups in the ’Sex’ column. Draw a visual- ization to show how the survival distributions vary by gender."
      ],
      "metadata": {
        "id": "iesQvWLPv4zX"
      }
    },
    {
      "cell_type": "code",
      "source": [
        "import matplotlib.pyplot as plt\n",
        "\n",
        "survival_rates_gender = df_titanic.groupby('Sex')['Survived'].mean()\n",
        "print(\"Survival Rates by Gender:\")\n",
        "print(survival_rates_gender)\n",
        "\n",
        "\n",
        "plt.bar(survival_rates_gender.index, survival_rates_gender.values, color=['lightcoral', 'skyblue'])\n",
        "plt.title(\"Survival Rates by Gender\")\n",
        "plt.xlabel(\"Gender\")\n",
        "plt.ylabel(\"Survival Rate\")\n",
        "plt.show()"
      ],
      "metadata": {
        "colab": {
          "base_uri": "https://localhost:8080/",
          "height": 563
        },
        "id": "Gy7-QlKvv7RF",
        "outputId": "1b09b906-e400-4567-bd46-8ef01869ccc1"
      },
      "execution_count": 24,
      "outputs": [
        {
          "output_type": "stream",
          "name": "stdout",
          "text": [
            "Survival Rates by Gender:\n",
            "Sex\n",
            "female    0.742038\n",
            "male      0.188908\n",
            "Name: Survived, dtype: float64\n"
          ]
        },
        {
          "output_type": "display_data",
          "data": {
            "text/plain": [
              "<Figure size 640x480 with 1 Axes>"
            ],
            "image/png": "[encoded data removed]"
          },
          "metadata": {}
        }
      ]
    },
    {
      "cell_type": "markdown",
      "source": [
        "**Problem - 5:**\n",
        "\n",
        "Draw a visualization that breaks your visualization from Exercise 3 down by the port of embarkation (’Em-\n",
        "barked’). In this instance, compare the ports ’C’ (Cherbourg), ’Q’ (Queenstown), and ’S’ (Southampton)."
      ],
      "metadata": {
        "id": "L-mxS79JwRvQ"
      }
    },
    {
      "cell_type": "code",
      "source": [
        "survival_rates_port = {\n",
        "    'Cherbourg': df_titanic.loc[df_titanic['Embarked_C'] == 1, 'Survived'].mean(),\n",
        "    'Queenstown': df_titanic.loc[df_titanic['Embarked_Q'] == 1, 'Survived'].mean(),\n",
        "    'Southampton': df_titanic.loc[df_titanic['Embarked_S'] == 1, 'Survived'].mean(),\n",
        "}\n",
        "\n",
        "plt.figure(figsize=(8, 6))\n",
        "plt.bar(survival_rates_port.keys(), survival_rates_port.values(), color=['blue', 'black', 'yellow'])\n",
        "plt.title(\"Survival Rates by Port of Embarkation\")\n",
        "plt.xlabel(\"Port\")\n",
        "plt.ylabel(\"Survival Rate\")\n",
        "plt.show()"
      ],
      "metadata": {
        "colab": {
          "base_uri": "https://localhost:8080/",
          "height": 564
        },
        "id": "L1ddwFKDwTsm",
        "outputId": "f8e8f9eb-bc64-45b9-a8f1-b14bfc110543"
      },
      "execution_count": 26,
      "outputs": [
        {
          "output_type": "display_data",
          "data": {
            "text/plain": [
              "<Figure size 800x600 with 1 Axes>"
            ],
            "image/png": "[encoded data removed]"
          },
          "metadata": {}
        }
      ]
    },
    {
      "cell_type": "markdown",
      "source": [],
      "metadata": {
        "id": "O0uBpDGGwVZ3"
      }
    }
  ]
}