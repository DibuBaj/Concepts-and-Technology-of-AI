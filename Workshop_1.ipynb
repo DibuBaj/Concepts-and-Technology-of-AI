{
  "nbformat": 4,
  "nbformat_minor": 0,
  "metadata": {
    "colab": {
      "provenance": []
    },
    "kernelspec": {
      "name": "python3",
      "display_name": "Python 3"
    },
    "language_info": {
      "name": "python"
    }
  },
  "cells": [
    {
      "cell_type": "markdown",
      "source": [
        "###Name:Dibyanshu Ratna Bajracharya\n",
        "\n",
        "###Class:L5CG2\n",
        "\n",
        "### Student Id: 2408571"
      ],
      "metadata": {
        "id": "b7xVm6KGlMQ3"
      }
    },
    {
      "cell_type": "markdown",
      "source": [
        "#4.1 Warming Up Exercise: Basic Vector and Matrix Operation with Numpy.\n",
        "**Problem - 1: Array Creation:**\n",
        "Complete the following Tasks:\n",
        "1. Initialize an empty array with size 2X2.\n",
        "2. Initialize an all one array with size 4X2.\n",
        "3. Return a new array of given shape and type, filled with fill value.{Hint: np.full}\n",
        "4. Return a new array of zeros with same shape and type as a given array.{Hint: np.zeros like}\n",
        "5. Return a new array of ones with same shape and type as a given array.{Hint: np.ones like}\n",
        "6. For an existing list new_list = [1,2,3,4] convert to an numpy array.{Hint: np.array()}"
      ],
      "metadata": {
        "id": "9zM4w6EPzy2G"
      }
    },
    {
      "cell_type": "code",
      "source": [
        "import numpy as np\n",
        "\n",
        "# Q1.\n",
        "q1 = np.empty((2, 2))\n",
        "print(\"Empty Array:\\n\",q1,\"\\n\")\n",
        "\n",
        "#Q2\n",
        "q2 = np.ones((4,2))\n",
        "print(\"Ones Arryay:\\n\",q2,\"\\n\")\n",
        "\n",
        "#Q3\n",
        "fill_value = 7\n",
        "q3 = np.full((3, 3), fill_value)\n",
        "print(\"Fill Value Array:\\n\",q3,\"\\n\")\n",
        "\n",
        "#Q4\n",
        "given_array_zero = np.array([[1,2,3],[4,5,6]])\n",
        "q4 = np.zeros_like(given_array_zero)\n",
        "print(\"Shaped Zero Array:\\n\",q4,\"\\n\")\n",
        "\n",
        "#Q5\n",
        "given_array_one = np.array([[4,5],[5,7]])\n",
        "q5 = np.ones_like(given_array_one)\n",
        "print(\"Shaped Ones Array\",q5,\"\\n\")\n",
        "\n",
        "#Q6\n",
        "new_list = [1,2,3,4]\n",
        "q6 = np.array(new_list)\n",
        "print(\"List to Array:\\n\",q6)"
      ],
      "metadata": {
        "colab": {
          "base_uri": "https://localhost:8080/"
        },
        "id": "OU9ifc4tz_uZ",
        "outputId": "abb558d7-4402-4969-c734-7b1e6cb0a008"
      },
      "execution_count": null,
      "outputs": [
        {
          "output_type": "stream",
          "name": "stdout",
          "text": [
            "Empty Array:\n",
            " [[1.78e-322 2.17e-322]\n",
            " [6.42e-323 7.91e-323]] \n",
            "\n",
            "Ones Arryay:\n",
            " [[1. 1.]\n",
            " [1. 1.]\n",
            " [1. 1.]\n",
            " [1. 1.]] \n",
            "\n",
            "Fill Value Array:\n",
            " [[7 7 7]\n",
            " [7 7 7]\n",
            " [7 7 7]] \n",
            "\n",
            "Shaped Zero Array:\n",
            " [[0 0 0]\n",
            " [0 0 0]] \n",
            "\n",
            "Shaped Ones Array [[1 1]\n",
            " [1 1]] \n",
            "\n",
            "List to Array:\n",
            " [1 2 3 4]\n"
          ]
        }
      ]
    },
    {
      "cell_type": "markdown",
      "source": [
        "#4.1.1 Problem - 2: Array Manipulation: Numerical Ranges and Array indexing:\n",
        "**Complete the following tasks:**\n",
        "1. Create an array with values ranging from 10 to 49. {Hint:np.arrange()}.\n",
        "2. Create a 3X3 matrix with values ranging from 0 to 8.\n",
        "{Hint:look for np.reshape()}\n",
        "3. Create a 3X3 identity matrix.{Hint:np.eye()}\n",
        "4. Create a random array of size 30 and find the mean of the array.\n",
        "{Hint:check for np.random.random() and array.mean() function}\n",
        "5. Create a 10X10 array with random values and find the minimum and maximum values.\n",
        "6. Create a zero array of size 10 and replace 5th element with 1.\n",
        "7. Reverse an array arr = [1,2,0,0,4,0].\n",
        "8. Create a 2d array with 1 on border and 0 inside.\n",
        "9. Create a 8X8 matrix and fill it with a checkerboard pattern."
      ],
      "metadata": {
        "id": "P-hdyk1D3NnY"
      }
    },
    {
      "cell_type": "code",
      "source": [
        "import numpy as np\n",
        "\n",
        "#Q1\n",
        "q1 = np.arange(10,50)\n",
        "print(\"Ranging Matrix:\\n\",q1,\"\\n\")\n",
        "\n",
        "#Q2\n",
        "given_array = np.arange(0,9)\n",
        "q2 = np.reshape(given_array,(3,3))\n",
        "print(\"Reshape matrix:\\n\",q2,\"\\n\")\n",
        "\n",
        "#Q3\n",
        "q3 = np.eye(3)\n",
        "print(\"Identity matrix:\\n\",q3,\"\\n\")\n",
        "\n",
        "#Q4\n",
        "random_array = np.random.random(30)\n",
        "print(\"Mean:\",random_array.mean(),\"\\n\")\n",
        "\n",
        "#Q5\n",
        "array_random = np.random.random((10, 10))\n",
        "min_value = np.min(array_random)\n",
        "max_value = np.max(array_random)\n",
        "print(\"Maximum Value:\",max_value)\n",
        "print(\"Minimum Value:\",min_value)\n",
        "print(\"\\n\")\n",
        "\n",
        "#Q6\n",
        "zero_array = np.zeros(10)\n",
        "zero_array[5] = 1\n",
        "print(\"Replace Array:\\n\",zero_array)\n",
        "print(\"\\n\")\n",
        "\n",
        "#Q7\n",
        "arr = np.array([1,2,0,0,4,0])\n",
        "print(\"Reverse Array:\\n\",arr[::-1])\n",
        "print(\"\\n\")\n",
        "\n",
        "#Q8\n",
        "one_border = np.ones((3,3))\n",
        "one_border[1:-1,1:-1] = 0\n",
        "print(\"2D Array\\n\",one_border,\"\\n\")\n",
        "\n",
        "#Q9\n",
        "checker = np.zeros((8,8))\n",
        "checker[1::2, ::2] = 1\n",
        "checker[::2, 1::2] = 1\n",
        "print(\"CheckBox:\\n\",checker)"
      ],
      "metadata": {
        "colab": {
          "base_uri": "https://localhost:8080/"
        },
        "id": "BYAvWZIO3Ydj",
        "outputId": "4846168b-2a5e-4d25-b449-4f023625b362"
      },
      "execution_count": null,
      "outputs": [
        {
          "output_type": "stream",
          "name": "stdout",
          "text": [
            "Ranging Matrix:\n",
            " [10 11 12 13 14 15 16 17 18 19 20 21 22 23 24 25 26 27 28 29 30 31 32 33\n",
            " 34 35 36 37 38 39 40 41 42 43 44 45 46 47 48 49] \n",
            "\n",
            "Reshape matrix:\n",
            " [[0 1 2]\n",
            " [3 4 5]\n",
            " [6 7 8]] \n",
            "\n",
            "Identity matrix:\n",
            " [[1. 0. 0.]\n",
            " [0. 1. 0.]\n",
            " [0. 0. 1.]] \n",
            "\n",
            "Mean: 0.5094284346116876 \n",
            "\n",
            "Maximum Value: 0.9925440555548576\n",
            "Minimum Value: 0.009112533285448476\n",
            "\n",
            "\n",
            "Replace Array:\n",
            " [0. 0. 0. 0. 0. 1. 0. 0. 0. 0.]\n",
            "\n",
            "\n",
            "Reverse Array:\n",
            " [0 4 0 0 2 1]\n",
            "\n",
            "\n",
            "2D Array\n",
            " [[1. 1. 1.]\n",
            " [1. 0. 1.]\n",
            " [1. 1. 1.]] \n",
            "\n",
            "CheckBox:\n",
            " [[0. 1. 0. 1. 0. 1. 0. 1.]\n",
            " [1. 0. 1. 0. 1. 0. 1. 0.]\n",
            " [0. 1. 0. 1. 0. 1. 0. 1.]\n",
            " [1. 0. 1. 0. 1. 0. 1. 0.]\n",
            " [0. 1. 0. 1. 0. 1. 0. 1.]\n",
            " [1. 0. 1. 0. 1. 0. 1. 0.]\n",
            " [0. 1. 0. 1. 0. 1. 0. 1.]\n",
            " [1. 0. 1. 0. 1. 0. 1. 0.]]\n"
          ]
        }
      ]
    },
    {
      "cell_type": "markdown",
      "source": [
        "**Problem - 3: Array Operations:**\n",
        "\n",
        "For the following arrays:\n",
        "x = np.array([[1,2],[3,5]]) and y = np.array([[5,6],[7,8]]);\n",
        "v = np.array([9,10]) and w = np.array([11,12]);\n",
        "Complete all the task using numpy:\n",
        "1. Add the two array.\n",
        "2. Subtract the two array.\n",
        "3. Multiply the array with any integers of your choice.\n",
        "4. Find the square of each element of the array.\n",
        "5. Find the dot product between: v(and)w ; x(and)v ; x(and)y.\n",
        "6. Concatenate x(and)y along row and Concatenate v(and)w along column.\n",
        "{Hint:try np.concatenate() or np.vstack() functions.\n",
        "7. Concatenate x(and)v; if you get an error, observe and explain why did you get the error?"
      ],
      "metadata": {
        "id": "5DAB7qspudju"
      }
    },
    {
      "cell_type": "code",
      "source": [
        "import numpy as np\n",
        "\n",
        "x = np.array([[1,2],[3,5]])\n",
        "y = np.array([[5,6],[7,8]])\n",
        "v = np.array([9,10])\n",
        "w = np.array([11,12])\n",
        "\n",
        "#Q1\n",
        "print(\"Sum:\")\n",
        "print(x+y,\",\")\n",
        "print(v+w)\n",
        "print(\"\\n\")\n",
        "\n",
        "#Q2\n",
        "print(\"Difference:\")\n",
        "print(x-y,\",\")\n",
        "print(v-w)\n",
        "print(\"\\n\")\n",
        "\n",
        "#Q3\n",
        "print(\"Multiplication:\")\n",
        "print(2*x,\",\")\n",
        "print(5*y,\",\")\n",
        "print(3*v,\",\")\n",
        "print(9*w)\n",
        "print(\"\\n\")\n",
        "\n",
        "#Q4\n",
        "print(\"Square:\")\n",
        "print(np.square(x),\",\")\n",
        "print(np.square(y),\",\")\n",
        "print(np.square(v),\",\")\n",
        "print(np.square(w))\n",
        "print(\"\\n\")\n",
        "\n",
        "#Q5\n",
        "print(\"Dot Product:\")\n",
        "print(np.dot(v,w),\",\")\n",
        "print(np.dot(x,v),\",\")\n",
        "print(np.dot(x,y))\n",
        "print(\"\\n\")\n",
        "\n",
        "#Q6\n",
        "print(\"Concatenate:\")\n",
        "print(np.concatenate((x,y),axis=0),\",\")\n",
        "print(np.vstack((v, w)))\n",
        "\n",
        "#Q7\n",
        "# print(np.concatenate((x,v),axis=1))\n",
        "# The error occurs because x is a 2D array, and v is a 1D array, so their shapes are incompatible for concatenation along the specified axis."
      ],
      "metadata": {
        "colab": {
          "base_uri": "https://localhost:8080/"
        },
        "id": "KbxMYu-AusNu",
        "outputId": "91919493-83d0-492a-b89c-f1fda92a8e03"
      },
      "execution_count": null,
      "outputs": [
        {
          "output_type": "stream",
          "name": "stdout",
          "text": [
            "Sum:\n",
            "[[ 6  8]\n",
            " [10 13]] ,\n",
            "[20 22]\n",
            "\n",
            "\n",
            "Difference:\n",
            "[[-4 -4]\n",
            " [-4 -3]] ,\n",
            "[-2 -2]\n",
            "\n",
            "\n",
            "Multiplication:\n",
            "[[ 2  4]\n",
            " [ 6 10]] ,\n",
            "[[25 30]\n",
            " [35 40]] ,\n",
            "[27 30] ,\n",
            "[ 99 108]\n",
            "\n",
            "\n",
            "Square:\n",
            "[[ 1  4]\n",
            " [ 9 25]] ,\n",
            "[[25 36]\n",
            " [49 64]] ,\n",
            "[ 81 100] ,\n",
            "[121 144]\n",
            "\n",
            "\n",
            "Dot Product:\n",
            "219 ,\n",
            "[29 77] ,\n",
            "[[19 22]\n",
            " [50 58]]\n",
            "\n",
            "\n",
            "Concatenate:\n",
            "[[1 2]\n",
            " [3 5]\n",
            " [5 6]\n",
            " [7 8]] ,\n",
            "[[ 9 10]\n",
            " [11 12]]\n"
          ]
        }
      ]
    },
    {
      "cell_type": "markdown",
      "source": [
        "**Problem - 4: Matrix Operations:**\n",
        "\n",
        "• For the following arrays:\n",
        "A = np.array([[3,4],[7,8]]) and B = np.array([[5,3],[2,1]]);\n",
        "Prove following with Numpy:\n",
        "1. Prove A.A^−1 = I.\n",
        "2. Prove AB ̸= BA.\n",
        "3. Prove (AB)^T = B^TA^T\n",
        ".\n",
        "\n",
        "• Solve the following system of Linear equation using Inverse Methods.\n",
        "\n",
        "2x − 3y + z = −1\n",
        "x − y + 2z = −3\n",
        "3x + y − z = 9\n",
        "\n",
        "{Hint: First use Numpy array to represent the equation in Matrix form. Then Solve for: AX = B}\n",
        "• Now: solve the above equation using np.linalg.inv function.{Explore more about ”linalg” function\n",
        "of Numpy}"
      ],
      "metadata": {
        "id": "VRLbUUi8XxC-"
      }
    },
    {
      "cell_type": "code",
      "source": [
        "import numpy as np\n",
        "\n",
        "A = np.array([[3,4],[7,8]])\n",
        "B = np.array([[5,3],[2,1]])\n",
        "\n",
        "#Q1\n",
        "AIn = np.linalg.inv(A)\n",
        "print(\"A.A^-1:\",np.dot(A,AIn),\"\\n\")\n",
        "\n",
        "#Q2\n",
        "A_B = np.dot(A,B)\n",
        "B_A = np.dot(B,A)\n",
        "print(\"AB:\",A_B)\n",
        "print(\" ̸= \")\n",
        "print(\"BA:\",B_A,\"\\n\")\n",
        "\n",
        "#Q3\n",
        "A_BT = A_B.T\n",
        "AT = A.T\n",
        "BT = B.T\n",
        "BT_AT = np.dot(BT,AT)\n",
        "print(\"(AB)^T:\",A_BT)\n",
        "print(\"=\")\n",
        "print(\"B^TA^T:\",BT_AT,\"\\n\")\n",
        "\n",
        "#Q4\n",
        "x = np.array([[2, -3, 1],\n",
        "              [1, -1, 2],\n",
        "              [3, 1, -1]])\n",
        "y = np.array([-1, -3, 9])\n",
        "\n",
        "x_inv = np.linalg.inv(x)\n",
        "\n",
        "z = np.dot(x_inv,y)\n",
        "print(\"Solution using the Inverse Method:\")\n",
        "print(z)"
      ],
      "metadata": {
        "colab": {
          "base_uri": "https://localhost:8080/"
        },
        "id": "Oqe79w6FYPOj",
        "outputId": "412173ec-829d-4df4-d8f9-c2fc2c47ceec"
      },
      "execution_count": null,
      "outputs": [
        {
          "output_type": "stream",
          "name": "stdout",
          "text": [
            "A.A^-1: [[1.00000000e+00 0.00000000e+00]\n",
            " [1.77635684e-15 1.00000000e+00]] \n",
            "\n",
            "AB: [[23 13]\n",
            " [51 29]]\n",
            " ̸= \n",
            "BA: [[36 44]\n",
            " [13 16]] \n",
            "\n",
            "(AB)^T: [[23 51]\n",
            " [13 29]]\n",
            "=\n",
            "B^TA^T: [[23 51]\n",
            " [13 29]] \n",
            "\n",
            "Solution using the Inverse Method:\n",
            "[ 2.  1. -2.]\n"
          ]
        }
      ]
    },
    {
      "cell_type": "markdown",
      "source": [
        "# 4.2 Experiment: How Fast is Numpy?\n",
        "In this exercise, you will compare the performance and implementation of operations using plain Python\n",
        "lists (arrays) and NumPy arrays. Follow the instructions:\n",
        "\n",
        "**1. Element-wise Addition:**\n",
        "\n",
        "• Using Python Lists, perform element-wise addition of two lists of size 1, 000, 000. Measure and Print the time taken for this operation.\n",
        "\n",
        "• Using Numpy Arrays, Repeat the calculation and measure and print the time taken for this\n",
        "operation."
      ],
      "metadata": {
        "id": "9n_PFhkhfPS1"
      }
    },
    {
      "cell_type": "code",
      "source": [
        "import time\n",
        "import numpy as np\n",
        "\n",
        "# Define the size\n",
        "size = 1000000\n",
        "\n",
        "# Create two lists\n",
        "list1 = [i for i in range(size)]\n",
        "list2 = [i for i in range(size, 2*size)]\n",
        "\n",
        "# Python Lists\n",
        "start_time = time.time()\n",
        "result_list = [list1[i] + list2[i] for i in range(size)]\n",
        "end_time = time.time()\n",
        "print(f\"Time taken for Python Lists: {end_time - start_time:.5f} sec\")\n",
        "\n",
        "# Create two arrays\n",
        "array1 = np.arange(size)\n",
        "array2 = np.arange(size, 2*size)\n",
        "\n",
        "# NumPy Arrays\n",
        "start_time = time.time()\n",
        "result_array = array1 + array2\n",
        "end_time = time.time()\n",
        "print(f\"Time taken for NumPy Arrays: {end_time - start_time:.5f} sec\")\n"
      ],
      "metadata": {
        "colab": {
          "base_uri": "https://localhost:8080/"
        },
        "id": "GTHsHVdRffRa",
        "outputId": "7ec92bec-5cd2-45c9-e11c-ed4847923610"
      },
      "execution_count": null,
      "outputs": [
        {
          "output_type": "stream",
          "name": "stdout",
          "text": [
            "Time taken for Python Lists: 0.17163 sec\n",
            "Time taken for NumPy Arrays: 0.00400 sec\n"
          ]
        }
      ]
    },
    {
      "cell_type": "markdown",
      "source": [
        "**2. Element-wise Multiplication**\n",
        "\n",
        "• Using Python Lists, perform element-wise multiplication of two lists of size 1, 000, 000. Mea-\n",
        "sure and Print the time taken for this operation.\n",
        "\n",
        "• Using Numpy Arrays, Repeat the calculation and measure and print the time taken for this\n",
        "operation."
      ],
      "metadata": {
        "id": "2e54Me_IgZwh"
      }
    },
    {
      "cell_type": "code",
      "source": [
        "import time\n",
        "import numpy as np\n",
        "\n",
        "# Define the size\n",
        "size = 1000000\n",
        "\n",
        "# Create two lists\n",
        "list1 = [i for i in range(size)]\n",
        "list2 = [i for i in range(size, 2*size)]\n",
        "\n",
        "# Python Lists\n",
        "start_time = time.time()\n",
        "result_list = [list1[i] * list2[i] for i in range(size)]\n",
        "end_time = time.time()\n",
        "print(f\"Time taken for Python Lists: {end_time - start_time:.5f} sec\")\n",
        "\n",
        "# Create two NumPy arrays\n",
        "array1 = np.arange(size)\n",
        "array2 = np.arange(size, 2*size)\n",
        "\n",
        "# NumPy Arrays\n",
        "start_time = time.time()\n",
        "result_array = array1 * array2\n",
        "end_time = time.time()\n",
        "print(f\"Time taken for NumPy Arrays: {end_time - start_time:.5f} sec\")\n"
      ],
      "metadata": {
        "colab": {
          "base_uri": "https://localhost:8080/"
        },
        "id": "Fx1wUw2kghRG",
        "outputId": "3fa36f24-1855-443b-d989-9ab9320366aa"
      },
      "execution_count": null,
      "outputs": [
        {
          "output_type": "stream",
          "name": "stdout",
          "text": [
            "Time taken for Python Lists: 0.15566 sec\n",
            "Time taken for NumPy Arrays: 0.00426 sec\n"
          ]
        }
      ]
    },
    {
      "cell_type": "markdown",
      "source": [
        "**3. Dot Product**\n",
        "\n",
        "• Using Python Lists, compute the dot product of two lists of size 1, 000, 000. Measure and\n",
        "Print the time taken for this operation.\n",
        "\n",
        "• Using Numpy Arrays, Repeat the calculation and measure and print the time taken for this\n",
        "operation."
      ],
      "metadata": {
        "id": "qCY8-N1vg-vF"
      }
    },
    {
      "cell_type": "code",
      "source": [
        "import time\n",
        "import numpy as np\n",
        "\n",
        "# Define the size of the lists\n",
        "size = 1000000\n",
        "\n",
        "# Create two lists\n",
        "list1 = [i for i in range(size)]\n",
        "list2 = [i for i in range(size, 2*size)]\n",
        "\n",
        "# Python Lists\n",
        "start_time = time.time()\n",
        "result_list = sum(list1[i] * list2[i] for i in range(size))\n",
        "end_time = time.time()\n",
        "print(f\"Time taken Python Lists: {end_time - start_time:.5f} sec\")\n",
        "\n",
        "# Create two NumPy arrays\n",
        "array1 = np.arange(size)\n",
        "array2 = np.arange(size, 2*size)\n",
        "\n",
        "# NumPy Arrays\n",
        "start_time = time.time()\n",
        "result_array = np.dot(array1, array2)\n",
        "end_time = time.time()\n",
        "print(f\"Time taken for NumPy Arrays: {end_time - start_time:.5f} sec\")\n"
      ],
      "metadata": {
        "colab": {
          "base_uri": "https://localhost:8080/"
        },
        "id": "CVMQWYRbhCE5",
        "outputId": "cd8d6e52-193b-4969-f6b2-4221924a2ac1"
      },
      "execution_count": null,
      "outputs": [
        {
          "output_type": "stream",
          "name": "stdout",
          "text": [
            "Time taken Python Lists: 1.11623 sec\n",
            "Time taken for NumPy Arrays: 0.01028 sec\n"
          ]
        }
      ]
    },
    {
      "cell_type": "markdown",
      "source": [
        "**4. Matrix Multiplication**\n",
        "\n",
        "• Using Python lists, perform matrix multiplication of two matrices of size 1000x1000. Measure\n",
        "and print the time taken for this operation.\n",
        "\n",
        "• Using NumPy arrays, perform matrix multiplication of two matrices of size 1000x1000. Mea-\n",
        "sure and print the time taken for this operation."
      ],
      "metadata": {
        "id": "2JZy2qvyhoEK"
      }
    },
    {
      "cell_type": "code",
      "source": [
        "import time\n",
        "import numpy as np\n",
        "\n",
        "# Define the size\n",
        "size = 100\n",
        "\n",
        "# Create two 1000x1000 matrices\n",
        "matrix1 = [[i + j for i in range(size)] for j in range(size)]\n",
        "matrix2 = [[i + j for i in range(size)] for j in range(size)]\n",
        "\n",
        "# Python Lists\n",
        "start_time = time.time()\n",
        "result_list = [[sum(matrix1[i][k] * matrix2[k][j] for k in range(size)) for j in range(size)] for i in range(size)]\n",
        "end_time = time.time()\n",
        "print(f\"Time taken Python Lists: {end_time - start_time:.5f} sec\")\n",
        "\n",
        "# Create two 1000x1000 matrices\n",
        "matrix1_np = np.random.randint(0, 10, size=(size, size))\n",
        "matrix2_np = np.random.randint(0, 10, size=(size, size))\n",
        "\n",
        "# NumPy Arrays\n",
        "start_time = time.time()\n",
        "result_array = np.dot(matrix1_np, matrix2_np)\n",
        "end_time = time.time()\n",
        "print(f\"Time taken for NumPy Arrays: {end_time - start_time:.5f} sec\")\n"
      ],
      "metadata": {
        "id": "BkRgyoSfhreP",
        "colab": {
          "base_uri": "https://localhost:8080/"
        },
        "outputId": "32927fc7-152b-4e6f-867a-6ae48c9ccbc9"
      },
      "execution_count": null,
      "outputs": [
        {
          "output_type": "stream",
          "name": "stdout",
          "text": [
            "Time taken Python Lists: 0.16450 sec\n",
            "Time taken for NumPy Arrays: 0.00106 sec\n"
          ]
        }
      ]
    }
  ]
}