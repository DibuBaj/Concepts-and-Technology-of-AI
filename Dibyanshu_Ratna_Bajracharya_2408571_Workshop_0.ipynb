{
  "nbformat": 4,
  "nbformat_minor": 0,
  "metadata": {
    "colab": {
      "provenance": []
    },
    "kernelspec": {
      "name": "python3",
      "display_name": "Python 3"
    },
    "language_info": {
      "name": "python"
    }
  },
  "cells": [
    {
      "cell_type": "markdown",
      "source": [
        "• Datasets: The temperatures list contains daily temperature readings in Celsius for one\n",
        "month in Kathmandu. Each day includes three readings representing night (00-08),\n",
        "evening (08-16), and day (16-24) temperatures.\n",
        "Sample Code - List of temperature measured at Tribhuwan International Airport.\n",
        "temperatures = [8.2, 17.4, 14.1, 7.9, 18.0, 13.5, 9.0, 17.8, 13.0, 8.5,\n",
        "16.5, 12.9, 7.7, 17.2, 13.3, 8.4, 16.7, 14.0, 9.5, 18.3, 13.4, 8.1,\n",
        "17.9, 14.2, 7.6, 17.0, 12.8, 8.0, 16.8, 13.7, 7.8, 17.5, 13.6, 8.7,\n",
        "17.1, 13.8, 9.2, 18.1, 13.9, 8.3, 16.4, 12.7, 8.9, 18.2, 13.1, 7.8,\n",
        "16.6, 12.5]  \n",
        "Complete all the task below:"
      ],
      "metadata": {
        "id": "z_2fII8a54Ll"
      }
    },
    {
      "cell_type": "markdown",
      "source": [
        "Task 1. Classify Temperatures:\n",
        "1. Create empty lists for temperature classifications:  \n",
        "(a) Cold: temperatures below 10°C.  \n",
        "(b) Mild: temperatures between 10°C and 15°C.  \n",
        "(c) Comfortable: temperatures between 15°C and 20°C.\n",
        "\n",
        "2. Iterate over the temperatures list and add each temperature to the appropriate category.\n",
        "\n",
        "3. Print the lists to verify the classifications."
      ],
      "metadata": {
        "id": "GnoNdhSJ6wIG"
      }
    },
    {
      "cell_type": "code",
      "execution_count": 9,
      "metadata": {
        "colab": {
          "base_uri": "https://localhost:8080/"
        },
        "id": "1Hc8aPFkJNcI",
        "outputId": "9af91865-e3a0-4a2f-c683-5b50cbef6d4e"
      },
      "outputs": [
        {
          "output_type": "stream",
          "name": "stdout",
          "text": [
            "Cold: [8.2, 7.9, 9.0, 8.5, 7.7, 8.4, 9.5, 8.1, 7.6, 8.0, 7.8, 8.7, 9.2, 8.3, 8.9, 7.8]\n",
            "Mild: [14.1, 13.5, 13.0, 12.9, 13.3, 14.0, 13.4, 14.2, 12.8, 13.7, 13.6, 13.8, 13.9, 12.7, 13.1, 12.5]\n",
            "Comfortable: [17.4, 18.0, 17.8, 16.5, 17.2, 16.7, 18.3, 17.9, 17.0, 16.8, 17.5, 17.1, 18.1, 16.4, 18.2, 16.6]\n"
          ]
        }
      ],
      "source": [
        "temperatures = [\n",
        "    8.2, 17.4, 14.1, 7.9, 18.0, 13.5, 9.0, 17.8, 13.0, 8.5,\n",
        "16.5, 12.9, 7.7, 17.2, 13.3, 8.4, 16.7, 14.0, 9.5, 18.3, 13.4, 8.1,\n",
        "17.9, 14.2, 7.6, 17.0, 12.8, 8.0, 16.8, 13.7, 7.8, 17.5, 13.6, 8.7,\n",
        "17.1, 13.8, 9.2, 18.1, 13.9, 8.3, 16.4, 12.7, 8.9, 18.2, 13.1, 7.8,\n",
        "16.6, 12.5\n",
        "]\n",
        "\n",
        "#empty lists for temperature classifications\n",
        "cold=[] #temperature below 10 C\n",
        "mild=[] #temperature between 10 C and 15C\n",
        "comfortable =[] #temperatures between 15C and 20C\n",
        "\n",
        "#Iterate over the temperatures list and add each temperature to the appropriate category.\n",
        "\n",
        "for temp in temperatures:\n",
        "    if temp<10:\n",
        "        cold.append(temp)\n",
        "    elif 10<= temp <15:\n",
        "        mild.append(temp)\n",
        "    elif 15<=temp<20:\n",
        "        comfortable.append(temp)\n",
        "print(\"Cold:\", cold)\n",
        "print(\"Mild:\", mild)\n",
        "print(\"Comfortable:\", comfortable)"
      ]
    },
    {
      "cell_type": "markdown",
      "source": [
        "Task 2. Based on Data - Answer all the Questions:\n",
        "1. How many times was it mild?  \n",
        "(a) Hint: Count the number of items in the mild list and print the result.\n",
        "2. How many times was it comfortable?\n",
        "3. How many times was it cold?"
      ],
      "metadata": {
        "id": "VdOn21su8QoD"
      }
    },
    {
      "cell_type": "code",
      "source": [
        "mild = len(mild)\n",
        "print(f\"It was mild\",mild,\"times.\")\n",
        "\n",
        "comfortable = len(comfortable)\n",
        "print(f\"It was comfortable\",comfortable,\"times.\")\n",
        "\n",
        "cold = len(cold)\n",
        "print(f\"It was cold\",cold,\"times.\")\n"
      ],
      "metadata": {
        "colab": {
          "base_uri": "https://localhost:8080/"
        },
        "id": "FPmBYl7KJtiV",
        "outputId": "c693bab7-fa3b-45bb-d33b-b81dce7f4271"
      },
      "execution_count": 10,
      "outputs": [
        {
          "output_type": "stream",
          "name": "stdout",
          "text": [
            "It was mild 16 times.\n",
            "It was comfortable 16 times.\n",
            "It was cold 16 times.\n"
          ]
        }
      ]
    },
    {
      "cell_type": "markdown",
      "source": [
        "Task 3. Convert Temperatures from Celsius to Fahrenheit\n",
        "\n",
        "Using the formula for temperature conversion, convert each reading from Celsius to Fahrenheit and store it in a new list called temperatures_fahrenheit.\n",
        "\n",
        "Formula: Fahrenheit = (Celsius ×\n",
        "9\n",
        "/\n",
        "5\n",
        ") + 32\n",
        "\n",
        "1. Iterate over the temperatures list and apply the formula to convert each temperature.\n",
        "2. Store the results in the new list.\n",
        "3. Print the converted Fahrenheit values."
      ],
      "metadata": {
        "id": "2Zwzr33o8bMU"
      }
    },
    {
      "cell_type": "code",
      "source": [
        "#List of temperatures in Celsius\n",
        "temperatures = [\n",
        "    8.2, 17.4, 14.1, 7.9, 18.0, 13.5, 9.0, 17.8, 13.0, 8.5, 16.5,\n",
        "    12.9, 7.7, 17.2, 13.3, 8.4, 16.7, 14.0, 9.5, 18.3, 13.4, 8.1,\n",
        "    17.9, 14.2, 7.6, 17.0, 12.8, 8.0, 16.8, 13.7, 7.8, 17.5, 13.6,\n",
        "    8.7, 17.1, 13.8, 9.2, 18.1, 13.9, 8.3, 16.4, 12.7, 8.9, 18.2,\n",
        "    13.1, 7.8, 16.6, 12.5\n",
        "]\n",
        "\n",
        "#an empty list for temperatures in fahrenheit\n",
        "temperatures_fahrenheit = []\n",
        "\n",
        "#each temperature coverted from celsiusto fahrenheit\n",
        "for temp in temperatures:\n",
        "    fahrenheit = (temp * 9 / 5) + 32\n",
        "    temperatures_fahrenheit.append(fahrenheit)\n",
        "print(\"Temperatures in Fahrenheit:\", temperatures_fahrenheit)\n",
        "\n",
        "\n",
        "\n",
        "\n",
        "\n"
      ],
      "metadata": {
        "colab": {
          "base_uri": "https://localhost:8080/"
        },
        "id": "jttCkwG8JwBd",
        "outputId": "c7e6b97c-314d-44c5-f4df-bf9572f365e0"
      },
      "execution_count": 11,
      "outputs": [
        {
          "output_type": "stream",
          "name": "stdout",
          "text": [
            "Temperatures in Fahrenheit: [46.76, 63.32, 57.379999999999995, 46.22, 64.4, 56.3, 48.2, 64.04, 55.4, 47.3, 61.7, 55.22, 45.86, 62.959999999999994, 55.94, 47.120000000000005, 62.059999999999995, 57.2, 49.1, 64.94, 56.120000000000005, 46.58, 64.22, 57.56, 45.68, 62.6, 55.04, 46.4, 62.24, 56.66, 46.04, 63.5, 56.48, 47.66, 62.78, 56.84, 48.56, 64.58, 57.02, 46.94, 61.519999999999996, 54.86, 48.02, 64.75999999999999, 55.58, 46.04, 61.88, 54.5]\n"
          ]
        }
      ]
    },
    {
      "cell_type": "markdown",
      "source": [
        "Task 4. Analyze Temperature Patterns by Time of Day:\n",
        "Scenario: Each day’s readings are grouped as:\n",
        "• Night (00-08),\n",
        "• Evening (08-16),\n",
        "• Day (16-24).\n",
        "1. Create empty lists for night, day, and evening temperatures.\n",
        "2. Iterate over the temperatures list, assigning values to each time-of-day list based on\n",
        "their position.\n",
        "3. Calculate and print the average day-time temperature.\n",
        "4. (Optional) Plot ”day vs. temperature” using matplotlib."
      ],
      "metadata": {
        "id": "KrMILu3-8lX1"
      }
    },
    {
      "cell_type": "code",
      "source": [
        "import matplotlib.pyplot as plt\n",
        "\n",
        "temperatures = [\n",
        "    8.2, 17.4, 14.1, 7.9, 18.0, 13.5, 9.0, 17.8, 13.0, 8.5, 16.5,\n",
        "    12.9, 7.7, 17.2, 13.3, 8.4, 16.7, 14.0, 9.5, 18.3, 13.4, 8.1,\n",
        "    17.9, 14.2, 7.6, 17.0, 12.8, 8.0, 16.8, 13.7, 7.8, 17.5, 13.6,\n",
        "    8.7, 17.1, 13.8, 9.2, 18.1, 13.9, 8.3, 16.4, 12.7, 8.9, 18.2,\n",
        "    13.1, 7.8, 16.6, 12.5\n",
        "]\n",
        "\n",
        "# Empty lists for night, evening, and day temperatures\n",
        "night_temps = []\n",
        "evening_temps = []\n",
        "day_temps = []\n",
        "i = 0\n",
        "\n",
        "# Categorize temperatures\n",
        "for temp in temperatures:\n",
        "    if i % 24 < 8:\n",
        "        night_temps.append(temp)\n",
        "    elif i % 24 < 16:\n",
        "        evening_temps.append(temp)\n",
        "    else:\n",
        "        day_temps.append(temp)\n",
        "    i += 1\n",
        "\n",
        "# Average daytime temperature\n",
        "if len(day_temps) > 0:\n",
        "    average_day_temp = sum(day_temps) / len(day_temps)\n",
        "else:\n",
        "    average_day_temp = 0\n",
        "\n",
        "print(\"Night temperatures:\", night_temps)\n",
        "print(\"Evening temperatures:\", evening_temps)\n",
        "print(\"Day temperatures:\", day_temps)\n",
        "print(\"Average daytime temperature:\", average_day_temp)\n",
        "\n",
        "# (Optional) Plotting \"day vs. temperature\" using matplotlib\n",
        "plt.figure(figsize=(10, 6))\n",
        "plt.plot(range(len(day_temps)), day_temps, label=\"Daytime Temperatures\", color=\"orange\", marker=\"o\")\n",
        "plt.xlabel(\"Time (Day Intervals)\")\n",
        "plt.ylabel(\"Temperature (°C)\")\n",
        "plt.title(\"Daytime Temperatures\")\n",
        "plt.legend()  # Add legend\n",
        "plt.show()    # Display plot\n",
        "\n",
        "\n"
      ],
      "metadata": {
        "colab": {
          "base_uri": "https://localhost:8080/",
          "height": 637
        },
        "id": "PmLa5CS1Jyl1",
        "outputId": "02b418f3-da59-4861-cd45-1d09a3bce850"
      },
      "execution_count": 14,
      "outputs": [
        {
          "output_type": "stream",
          "name": "stdout",
          "text": [
            "Night temperatures: [8.2, 17.4, 14.1, 7.9, 18.0, 13.5, 9.0, 17.8, 7.6, 17.0, 12.8, 8.0, 16.8, 13.7, 7.8, 17.5]\n",
            "Evening temperatures: [13.0, 8.5, 16.5, 12.9, 7.7, 17.2, 13.3, 8.4, 13.6, 8.7, 17.1, 13.8, 9.2, 18.1, 13.9, 8.3]\n",
            "Day temperatures: [16.7, 14.0, 9.5, 18.3, 13.4, 8.1, 17.9, 14.2, 16.4, 12.7, 8.9, 18.2, 13.1, 7.8, 16.6, 12.5]\n",
            "Average daytime temperature: 13.643749999999999\n"
          ]
        },
        {
          "output_type": "display_data",
          "data": {
            "text/plain": [
              "<Figure size 1000x600 with 1 Axes>"
            ],
            "image/png": "[encoded data removed]"
          },
          "metadata": {}
        }
      ]
    },
    {
      "cell_type": "markdown",
      "source": [
        "Task 1 - Sum of Nested Lists:\n",
        "Scenario: You have a list that contains numbers and other lists of numbers (nested lists).\n",
        "You want to find the total sum of all the numbers in this structure.\n",
        "Task:\n",
        "• Write a recursive function sum_nested_list(nested_list) that:\n",
        "1. Takes a nested list (a list that can contain numbers or other lists of numbers) as\n",
        "input.\n",
        "2. Sums all numbers at every depth level of the list, regardless of how deeply nested\n",
        "the numbers are.\n",
        "• Test the function with a sample nested list, such as\n",
        "nested_list = [1, [2, [3, 4], 5], 6, [7, 8]].\n",
        "The result should be the total sum of all the numbers."
      ],
      "metadata": {
        "id": "y1OopHdt8tC7"
      }
    },
    {
      "cell_type": "code",
      "source": [
        "def sum_nested_list(nested_list):\n",
        "    \"\"\"\n",
        "    Iteratively sums all numbers in a nested list structure using a stack.\n",
        "\n",
        "    Args:\n",
        "        nested_list (list): A list that may contain numbers or other nested lists of numbers.\n",
        "\n",
        "    Returns:\n",
        "        int: The total sum of all numbers in the nested list.\n",
        "    \"\"\"\n",
        "    total = 0\n",
        "    stack = [nested_list] #starting with the entire nested list in the stack\n",
        "\n",
        "    while stack:\n",
        "        current = stack.pop()  #poping the most recent list to process\n",
        "        for element in current:\n",
        "            if isinstance(element, list): #if the element is a list, add it to the stack to process later\n",
        "                stack.append(element)\n",
        "            else:  #if the element is a number, add it to the total\n",
        "                total += element\n",
        "    return total\n",
        "\n",
        "#testing the function with a sample nested list\n",
        "nested_list = [1, [2, [3, 4], 5], 6, [7, 8]]\n",
        "result = sum_nested_list(nested_list)\n",
        "print(\"Total sum of nested list:\", result)\n"
      ],
      "metadata": {
        "colab": {
          "base_uri": "https://localhost:8080/"
        },
        "id": "gkdLkysiJ119",
        "outputId": "ecde0684-449d-4e39-9b1d-df65cc8b8fda"
      },
      "execution_count": 13,
      "outputs": [
        {
          "output_type": "stream",
          "name": "stdout",
          "text": [
            "Total sum of nested list: 36\n"
          ]
        }
      ]
    },
    {
      "cell_type": "markdown",
      "source": [
        "Task 2 - Generate All Permutations of a String:\n",
        "\n",
        "Scenario: Given a string, generate all possible permutations of its characters. This is useful\n",
        "for understanding backtracking and recursive depth-first search.\n",
        "Task:\n",
        "\n",
        "• Write a recursive function generate_permutations(s) that:\n",
        "– Takes a string s as input and returns a list of all unique permutations.\n",
        "\n",
        "• Test with strings like ”abc” and ”aab”.\n",
        "print(generate_permutations(\"abc\"))   \n",
        "Should return [’abc’, ’acb’, ’bac’, ’bca’, ’cab’, ’cba’]"
      ],
      "metadata": {
        "id": "TCGvLo7HDmvY"
      }
    },
    {
      "cell_type": "code",
      "source": [
        "def generate_permutations(s):\n",
        "  if len(s) == 1:\n",
        "    return s\n",
        "  permutations = []\n",
        "  for i in range(len(s)):\n",
        "    char = s[i]\n",
        "    remaining_chars = s[:i] + s[i+1:]\n",
        "    for perm in generate_permutations(remaining_chars):\n",
        "      permutations.append(char + perm)\n",
        "  return permutations\n",
        "\n",
        "generate_permutations(\"abc\")"
      ],
      "metadata": {
        "colab": {
          "base_uri": "https://localhost:8080/"
        },
        "id": "2Fe2mBBDDq0n",
        "outputId": "e1c84d37-e24c-4e17-c9b2-f4cddad99edf"
      },
      "execution_count": 15,
      "outputs": [
        {
          "output_type": "execute_result",
          "data": {
            "text/plain": [
              "['abc', 'acb', 'bac', 'bca', 'cab', 'cba']"
            ]
          },
          "metadata": {},
          "execution_count": 15
        }
      ]
    },
    {
      "cell_type": "markdown",
      "source": [
        "Task 3 - Directory Size Calculation:\n",
        "\n",
        "1. Write a recursive function calculate_directory_size(directory) where:\n",
        "\n",
        "• directory is a dictionary where keys represent file names (with values as sizes in KB) or directory names (with values as another dictionary representing a subdi-\n",
        "rectory).\n",
        "\n",
        "• The function should return the total size of the directory, including all nested\n",
        "subdirectories.\n",
        "\n",
        "2. Test the function with a sample directory structure."
      ],
      "metadata": {
        "id": "YEXA8qiID2nK"
      }
    },
    {
      "cell_type": "code",
      "source": [
        "directory_structure = {\n",
        "  \"file1.txt\": 200,\n",
        "  \"file2.txt\": 300,\n",
        "  \"subdir1\": {\n",
        "    \"file3.txt\": 400,\n",
        "    \"file4.txt\": 100\n",
        "  },\n",
        "  \"subdir2\": {\n",
        "    \"subsubdir1\": {\n",
        "      \"file5.txt\": 250\n",
        "    },\n",
        "    \"file6.txt\": 150\n",
        "  }\n",
        "}\n",
        "\n",
        "def calculate_directory_size(directory):\n",
        "  size = 0\n",
        "  for name, value in directory.items():\n",
        "    if isinstance(value, dict):\n",
        "      size += calculate_directory_size(value)\n",
        "    else:\n",
        "      size += value\n",
        "  return size\n",
        "\n",
        "\n",
        "calculate_directory_size(directory_structure)"
      ],
      "metadata": {
        "colab": {
          "base_uri": "https://localhost:8080/"
        },
        "id": "3AoqcxmjD4hF",
        "outputId": "065b6fe5-5023-472b-f856-20c4ff2efab1"
      },
      "execution_count": 16,
      "outputs": [
        {
          "output_type": "execute_result",
          "data": {
            "text/plain": [
              "1400"
            ]
          },
          "metadata": {},
          "execution_count": 16
        }
      ]
    },
    {
      "cell_type": "markdown",
      "source": [
        "Task 1 - Coin Change Problem:\n",
        "\n",
        "Scenario: Given a set of coin denominations and a target amount, find the minimum number\n",
        "of coins needed to make the amount. If it’s not possible, return - 1.\n",
        "\n",
        "Task:\n",
        "1. Write a function min_coins(coins, amount) that:\n",
        "\n",
        "• Uses DP to calculate the minimum number of coins needed to make up the\n",
        "amount.\n",
        "2. Test with coins = [1, 2, 5] and amount = 11. The result should be 3 (using coins\n",
        "[5, 5, 1])."
      ],
      "metadata": {
        "id": "FIIj9nYyD-Mb"
      }
    },
    {
      "cell_type": "code",
      "source": [
        "def min_coins(coins, amount):\n",
        "  dp = [float('inf')] * (amount+1)\n",
        "  dp[0] = 0\n",
        "\n",
        "  for i in range(1, amount+1):\n",
        "    for coin in coins:\n",
        "      if i >= coin:\n",
        "        dp[i] = min(dp[i], dp[i-coin]+1)\n",
        "  if dp[amount] == float('inf'):\n",
        "    return -1\n",
        "  return dp[amount]\n",
        "\n",
        "min_coins([1,2,5], 11)"
      ],
      "metadata": {
        "colab": {
          "base_uri": "https://localhost:8080/"
        },
        "id": "IqEWLfVhD_nG",
        "outputId": "6fad0775-ef4f-4c50-8ba4-460b5011a6e9"
      },
      "execution_count": 17,
      "outputs": [
        {
          "output_type": "execute_result",
          "data": {
            "text/plain": [
              "3"
            ]
          },
          "metadata": {},
          "execution_count": 17
        }
      ]
    },
    {
      "cell_type": "markdown",
      "source": [
        " Task 2 - Longest Common Subsequence (LCS):\n",
        "\n",
        "Scenario: Given two strings, find the length of their longest common subsequence (LCS).\n",
        "\n",
        "This is useful in text comparison.\n",
        "\n",
        "Task:\n",
        "1. Write a function longest_common_subsequence(s1, s2) that:\n",
        "\n",
        "• Uses DP to find the length of the LCS of two strings s1 and s2.\n",
        "2. Test with strings like \"abcde\" and \"ace\"; the LCS length should be 3 (\"ace\")."
      ],
      "metadata": {
        "id": "VNNUZ5nXFQ2I"
      }
    },
    {
      "cell_type": "code",
      "source": [
        "def longest_common_subsequence(s1, s2):\n",
        "    m, n = len(s1), len(s2)\n",
        "\n",
        "    dp = [[0] * (n + 1) for _ in range(m + 1)]\n",
        "\n",
        "    for i in range(1, m + 1):\n",
        "        for j in range(1, n + 1):\n",
        "            if s1[i - 1] == s2[j - 1]:\n",
        "                dp[i][j] = dp[i - 1][j - 1] + 1\n",
        "            else:\n",
        "                dp[i][j] = max(dp[i - 1][j], dp[i][j - 1])\n",
        "\n",
        "    return dp[m][n]\n",
        "\n",
        "s1 = \"abcde\"\n",
        "s2 = \"ace\"\n",
        "\n",
        "lcs_length = longest_common_subsequence(s1, s2)\n",
        "print(\"LCS length:\", lcs_length)\n"
      ],
      "metadata": {
        "colab": {
          "base_uri": "https://localhost:8080/"
        },
        "id": "4vEHZfYFFSvp",
        "outputId": "44440a15-d7d6-4045-a4e4-b3125b562ce2"
      },
      "execution_count": 18,
      "outputs": [
        {
          "output_type": "stream",
          "name": "stdout",
          "text": [
            "LCS length: 3\n"
          ]
        }
      ]
    },
    {
      "cell_type": "markdown",
      "source": [
        " Task 3 - 0/1 Knapsack Problem:\n",
        "\n",
        "Scenario: You have a list of items, each with a weight and a value. Given a weight capacity,\n",
        "maximize the total value of items you can carry without exceeding the weight capacity.\n",
        "\n",
        "Task:\n",
        "1. Write a function knapsack(weights, values, capacity) that:\n",
        "\n",
        "• Uses DP to determine the maximum value that can be achieved within the given\n",
        "weight capacity.\n",
        "\n",
        "2. Test with weights [1, 3, 4, 5], values [1, 4, 5, 7], and capacity 7. The result should be 9."
      ],
      "metadata": {
        "id": "MaqbJ-_YFXg5"
      }
    },
    {
      "cell_type": "code",
      "source": [
        "def knapsack(weights, values, capacity):\n",
        "    n = len(weights)\n",
        "\n",
        "    dp = [[0 for _ in range(capacity + 1)] for _ in range(n + 1)]\n",
        "\n",
        "    for i in range(1, n + 1):\n",
        "        for w in range(1, capacity + 1):\n",
        "            if weights[i - 1] <= w:\n",
        "                dp[i][w] = max(dp[i - 1][w], values[i - 1] + dp[i - 1][w - weights[i - 1]])\n",
        "            else:\n",
        "                dp[i][w] = dp[i - 1][w]\n",
        "\n",
        "    return dp[n][capacity]\n",
        "\n",
        "weights = [1, 3, 4, 5]\n",
        "values = [1, 4, 5, 7]\n",
        "capacity = 7\n",
        "\n",
        "result = knapsack(weights, values, capacity)\n",
        "print(\"Maximum value achievable:\", result)"
      ],
      "metadata": {
        "colab": {
          "base_uri": "https://localhost:8080/"
        },
        "id": "cmoRwR2DFZiB",
        "outputId": "378bb288-5975-43de-e29b-8e6dab742f5d"
      },
      "execution_count": 19,
      "outputs": [
        {
          "output_type": "stream",
          "name": "stdout",
          "text": [
            "Maximum value achievable: 9\n"
          ]
        }
      ]
    }
  ]
}